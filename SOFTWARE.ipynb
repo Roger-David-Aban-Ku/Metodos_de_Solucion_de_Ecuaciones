{
 "cells": [
  {
   "cell_type": "markdown",
   "metadata": {},
   "source": [
    "# Materia: Metodos Numericos\n",
    "### Ingenieria en Sistemas Computacionales\n",
    "### Docente: MM. Jorger Pool Cel\n",
    "### UNIDAD 2\n",
    "### 4°A\n",
    "## Integrantes del Equipo:\n",
    " **Roger David Aban Ku**\n",
    " \n",
    " **Axel Salvador Aguilar Nuñez**\n",
    " \n",
    " **Jesus Armando Cabrera Piña**"
   ]
  },
  {
   "cell_type": "markdown",
   "metadata": {},
   "source": [
    "# METODO DE BISECCIÓN\n",
    "$$f(x)=\\cos(x) - x$$\n",
    "**Intervalos** = $[0,\\pi/2]$\n",
    "\n",
    "**Tolerancia** = $0.0001$"
   ]
  },
  {
   "cell_type": "code",
   "execution_count": 1,
   "metadata": {},
   "outputs": [],
   "source": [
    "import math\n",
    "def fx(x):\n",
    "    return math.cos(x) - x\n",
    "\n",
    "def xr(xi,xs):\n",
    "    return (xi+xs)/2\n",
    "\n",
    "def error(xanterior, xactual):\n",
    "    return abs((xanterior - xactual)/xanterior)"
   ]
  },
  {
   "cell_type": "code",
   "execution_count": 6,
   "metadata": {},
   "outputs": [],
   "source": [
    "def biseccion(xi, xs, error):\n",
    "    ecalculado=1\n",
    "    xra=xr(xi, xs)\n",
    "    print(\"\\033[1;32m\",\"El intervalo es [ \",\"\\033[1;35m\",\"     | Xi |\",\"\\t\\033[1;31m\",\"                 | Xs |\",\"\\t\\033[1;34m\",\"            | xra |\",\"\\t\\033[1;32m\",\"       | Error |]\")\n",
    "    print(\"\\033[1;32m\",\"El intervalo es [\",\"\\033[1;35m\",xi,\"\\t\\033[1;31m\",xs,\"\\t\\033[1;34m\",xra,\"]\")\n",
    "    k=1;\n",
    "    while(ecalculado>error):\n",
    "        #xra=xr(xi, xs)\n",
    "        if((fx(xi)*fx(xra))<0):\n",
    "            xs=xra\n",
    "        if((fx(xi)*fx(xra))>0):\n",
    "            xi=xra\n",
    "        if ((fx(xi)*fx(xra))==0):\n",
    "            ecalculado=error\n",
    "        \n",
    "        xold=xra\n",
    "        xra=xr(xi, xs)\n",
    "        ecalculado=abs((xold - xra)/xold)\n",
    "        if ecalculado>=error:\n",
    "            print(\"\\033[1;32m\",\"El intervalo es [\",\"\\033[1;35m\",xi,\"\\t\\033[1;31m\",xs,\"\\t\\033[1;34m\",xra,\"\\t\\033[1;32m\",ecalculado,\"]\")\n",
    "            k=k+1;\n",
    "    \n",
    "    print(\"\")\n",
    "    print(\"\\t\\033[1;30m\",k,\" ITERACIONES para aproximar a: \",error,\"; \",\"\\033[1;32m\",xra,\"\\033[1;30m\",\"la aproximacion\")"
   ]
  },
  {
   "cell_type": "code",
   "execution_count": 7,
   "metadata": {},
   "outputs": [
    {
     "name": "stdout",
     "output_type": "stream",
     "text": [
      "\u001b[1;32m El intervalo es [  \u001b[1;35m      | Xi | \t\u001b[1;31m                  | Xs | \t\u001b[1;34m             | xra | \t\u001b[1;32m        | Error |]\n",
      "\u001b[1;32m El intervalo es [ \u001b[1;35m 0 \t\u001b[1;31m 1.5707963267948966 \t\u001b[1;34m 0.7853981633974483 ]\n",
      "\u001b[1;32m El intervalo es [ \u001b[1;35m 0 \t\u001b[1;31m 0.7853981633974483 \t\u001b[1;34m 0.39269908169872414 \t\u001b[1;32m 0.5 ]\n",
      "\u001b[1;32m El intervalo es [ \u001b[1;35m 0.39269908169872414 \t\u001b[1;31m 0.7853981633974483 \t\u001b[1;34m 0.5890486225480862 \t\u001b[1;32m 0.5 ]\n",
      "\u001b[1;32m El intervalo es [ \u001b[1;35m 0.5890486225480862 \t\u001b[1;31m 0.7853981633974483 \t\u001b[1;34m 0.6872233929727672 \t\u001b[1;32m 0.16666666666666666 ]\n",
      "\u001b[1;32m El intervalo es [ \u001b[1;35m 0.6872233929727672 \t\u001b[1;31m 0.7853981633974483 \t\u001b[1;34m 0.7363107781851077 \t\u001b[1;32m 0.07142857142857134 ]\n",
      "\u001b[1;32m El intervalo es [ \u001b[1;35m 0.7363107781851077 \t\u001b[1;31m 0.7853981633974483 \t\u001b[1;34m 0.760854470791278 \t\u001b[1;32m 0.033333333333333375 ]\n",
      "\u001b[1;32m El intervalo es [ \u001b[1;35m 0.7363107781851077 \t\u001b[1;31m 0.760854470791278 \t\u001b[1;34m 0.7485826244881928 \t\u001b[1;32m 0.01612903225806461 ]\n",
      "\u001b[1;32m El intervalo es [ \u001b[1;35m 0.7363107781851077 \t\u001b[1;31m 0.7485826244881928 \t\u001b[1;34m 0.7424467013366502 \t\u001b[1;32m 0.008196721311475383 ]\n",
      "\u001b[1;32m El intervalo es [ \u001b[1;35m 0.7363107781851077 \t\u001b[1;31m 0.7424467013366502 \t\u001b[1;34m 0.739378739760879 \t\u001b[1;32m 0.004132231404958664 ]\n",
      "\u001b[1;32m El intervalo es [ \u001b[1;35m 0.7363107781851077 \t\u001b[1;31m 0.739378739760879 \t\u001b[1;34m 0.7378447589729933 \t\u001b[1;32m 0.002074688796680566 ]\n",
      "\u001b[1;32m El intervalo es [ \u001b[1;35m 0.7378447589729933 \t\u001b[1;31m 0.739378739760879 \t\u001b[1;34m 0.7386117493669362 \t\u001b[1;32m 0.001039501039501149 ]\n",
      "\u001b[1;32m El intervalo es [ \u001b[1;35m 0.7386117493669362 \t\u001b[1;31m 0.739378739760879 \t\u001b[1;34m 0.7389952445639076 \t\u001b[1;32m 0.000519210799584686 ]\n",
      "\u001b[1;32m El intervalo es [ \u001b[1;35m 0.7389952445639076 \t\u001b[1;31m 0.739378739760879 \t\u001b[1;34m 0.7391869921623933 \t\u001b[1;32m 0.00025947067981305815 ]\n",
      "\u001b[1;32m El intervalo es [ \u001b[1;35m 0.7389952445639076 \t\u001b[1;31m 0.7391869921623933 \t\u001b[1;34m 0.7390911183631504 \t\u001b[1;32m 0.00012970168612185814 ]\n",
      "\n",
      "\t\u001b[1;30m 14  ITERACIONES para aproximar a:  0.0001 ;  \u001b[1;32m 0.739043181463529 \u001b[1;30m la aproximacion\n"
     ]
    }
   ],
   "source": [
    "xs=math.pi/2\n",
    "biseccion(0,xs,0.0001)"
   ]
  },
  {
   "cell_type": "code",
   "execution_count": null,
   "metadata": {},
   "outputs": [],
   "source": []
  },
  {
   "cell_type": "markdown",
   "metadata": {},
   "source": [
    "# METODO DE PUNTO FIJO\n",
    "$$f(x)=e^{-x} - x$$\n",
    "\n",
    "$$e^{-x} - x = 0$$\n",
    "**Despejar x**\n",
    "$$x=e^{-x}$$\n",
    "**Aproximación Inicial** = $[0]$\n",
    "\n",
    "**Tolerancia** = $0.001$"
   ]
  },
  {
   "cell_type": "code",
   "execution_count": 8,
   "metadata": {},
   "outputs": [],
   "source": [
    "import math\n",
    "\n",
    "def fxdespejada(x):\n",
    "    return math.e**(-x)\n",
    "\n",
    "def errorabsoluto(xactual,xanterior):\n",
    "    return abs(((xactual-xanterior)/xactual))"
   ]
  },
  {
   "cell_type": "code",
   "execution_count": 9,
   "metadata": {},
   "outputs": [],
   "source": [
    "def punto_fijo(x,cota):\n",
    "    error=1\n",
    "    k=1;\n",
    "    print(\"\\033[1;35m\",\"           | xi | \",\"\\t\\033[1;31m\",\"                   | Error | \")\n",
    "    print(\"\\033[1;35m\",\"Raiz: \",x)\n",
    "    while error>cota:\n",
    "        xactual=fxdespejada(x)\n",
    "        error=errorabsoluto(xactual,x)\n",
    "        x=xactual\n",
    "        if error>=cota:\n",
    "            print(\"\\033[1;35m\",\"Raiz: \",xactual,\"\\t\\033[1;31m\", \"   Error: \",error)\n",
    "            k=k+1;\n",
    "    \n",
    "    print(\"\")\n",
    "    print(\"\\t\\033[1;30m\",k,\" ITERACIONES para aproximar a: \",cota,\"; \",\"\\033[1;32m\",xactual,\"\\033[1;30m\",\"la aproximacion\")"
   ]
  },
  {
   "cell_type": "code",
   "execution_count": 10,
   "metadata": {},
   "outputs": [
    {
     "name": "stdout",
     "output_type": "stream",
     "text": [
      "\u001b[1;35m            | xi |  \t\u001b[1;31m                    | Error | \n",
      "\u001b[1;35m Raiz:  0\n",
      "\u001b[1;35m Raiz:  1.0 \t\u001b[1;31m    Error:  1.0\n",
      "\u001b[1;35m Raiz:  0.36787944117144233 \t\u001b[1;31m    Error:  1.718281828459045\n",
      "\u001b[1;35m Raiz:  0.6922006275553464 \t\u001b[1;31m    Error:  0.46853639461338437\n",
      "\u001b[1;35m Raiz:  0.5004735005636368 \t\u001b[1;31m    Error:  0.3830914659333314\n",
      "\u001b[1;35m Raiz:  0.6062435350855974 \t\u001b[1;31m    Error:  0.17446789681151248\n",
      "\u001b[1;35m Raiz:  0.545395785975027 \t\u001b[1;31m    Error:  0.11156622525381316\n",
      "\u001b[1;35m Raiz:  0.5796123355033789 \t\u001b[1;31m    Error:  0.059033508144086734\n",
      "\u001b[1;35m Raiz:  0.5601154613610891 \t\u001b[1;31m    Error:  0.03480866979624528\n",
      "\u001b[1;35m Raiz:  0.571143115080177 \t\u001b[1;31m    Error:  0.019308039312598228\n",
      "\u001b[1;35m Raiz:  0.5648793473910495 \t\u001b[1;31m    Error:  0.011088682420515694\n",
      "\u001b[1;35m Raiz:  0.5684287250290607 \t\u001b[1;31m    Error:  0.0062441911918328175\n",
      "\u001b[1;35m Raiz:  0.5664147331468833 \t\u001b[1;31m    Error:  0.0035556841379956908\n",
      "\u001b[1;35m Raiz:  0.5675566373282835 \t\u001b[1;31m    Error:  0.0020119651613549187\n",
      "\u001b[1;35m Raiz:  0.5669089119214953 \t\u001b[1;31m    Error:  0.0011425564022143186\n",
      "\n",
      "\t\u001b[1;30m 15  ITERACIONES para aproximar a:  0.001 ;  \u001b[1;32m 0.5672762321755697 \u001b[1;30m la aproximacion\n"
     ]
    }
   ],
   "source": [
    "punto_fijo(0,0.001)"
   ]
  },
  {
   "cell_type": "markdown",
   "metadata": {},
   "source": [
    "# METODO DE NEWTON RAPHSON\n",
    "$$f(x)=3(x+1)^{-1} - 1.8$$\n",
    "\n",
    "$$f'(x)=-3(x+1)^{-2}$$\n",
    "**Aproximación Inicial** = $[0]$\n",
    "\n",
    "**Tolerancia** = $0.001$"
   ]
  },
  {
   "cell_type": "code",
   "execution_count": 12,
   "metadata": {},
   "outputs": [],
   "source": [
    "def fx(x):\n",
    "    return 3*(x+1)**(-1) - 1.8\n",
    "\n",
    "def derivadafx(x):\n",
    "    return -3*(x+1)**(-2)\n",
    "\n",
    "def Error(xactual, xanterior):\n",
    "    return abs(xactual-xanterior)"
   ]
  },
  {
   "cell_type": "code",
   "execution_count": 13,
   "metadata": {},
   "outputs": [],
   "source": [
    "def newton(x, error):\n",
    "    ecalculado=1\n",
    "    k=1;\n",
    "    print(\"\\033[1;35m\",\"           | xi | \",\"\\t\\033[1;31m\",\"                   | Error | \")\n",
    "    print(\"\\033[1;35m\",\"Raiz: \",x)\n",
    "    while(ecalculado>error):\n",
    "        \n",
    "        xactual=x-(fx(x)/derivadafx(x))\n",
    "        \n",
    "        ecalculado=Error(xactual,x)\n",
    "        \n",
    "        x=xactual\n",
    "        if ecalculado>=error:\n",
    "            print(\"\\033[1;35m\",\"Raiz: \",xactual,\"\\t\\033[1;31m\", \"   Error: \",ecalculado)\n",
    "            k=k+1;\n",
    "        \n",
    "    print(\"\")\n",
    "    print(\"\\t\\033[1;30m\",k,\" ITERACIONES para aproximar a: \",error,\"; \",\"\\033[1;32m\",xactual,\"\\033[1;30m\",\"la aproximacion\")"
   ]
  },
  {
   "cell_type": "code",
   "execution_count": 14,
   "metadata": {},
   "outputs": [
    {
     "name": "stdout",
     "output_type": "stream",
     "text": [
      "\u001b[1;35m            | xi |  \t\u001b[1;31m                    | Error | \n",
      "\u001b[1;35m Raiz:  0\n",
      "\u001b[1;35m Raiz:  0.39999999999999997 \t\u001b[1;31m    Error:  0.39999999999999997\n",
      "\u001b[1;35m Raiz:  0.6239999999999999 \t\u001b[1;31m    Error:  0.22399999999999992\n",
      "\u001b[1;35m Raiz:  0.6655743999999999 \t\u001b[1;31m    Error:  0.04157440000000001\n",
      "\u001b[1;35m Raiz:  0.666665950838784 \t\u001b[1;31m    Error:  0.0010915508387840944\n",
      "\n",
      "\t\u001b[1;30m 5  ITERACIONES para aproximar a:  0.001 ;  \u001b[1;32m 0.6666666666663592 \u001b[1;30m la aproximacion\n"
     ]
    }
   ],
   "source": [
    "newton(0,0.001)"
   ]
  },
  {
   "cell_type": "code",
   "execution_count": null,
   "metadata": {},
   "outputs": [],
   "source": []
  },
  {
   "cell_type": "markdown",
   "metadata": {},
   "source": [
    "# METODO DE LA SECANTE\n",
    "$$f(x)=\\cos(x+1) - \\sin(x+1) + 0.8$$\n",
    "**Aproximación Inicial** = $[0]$\n",
    "\n",
    "**Tolerancia** = $0.001$"
   ]
  },
  {
   "cell_type": "code",
   "execution_count": 16,
   "metadata": {},
   "outputs": [],
   "source": [
    "import math\n",
    "\n",
    "def funcionx(x):\n",
    "    return math.cos(x+1) - math.sin(x+1) + 0.8\n",
    "def fun(xia, xi):\n",
    "    return (xi-((funcionx(xi) * (xia - xi)) / (funcionx(xia) - funcionx(xi))))\n",
    "\n",
    "def error(xiactual, xianterior):\n",
    "    return abs((xiactual-xianterior)/xiactual)"
   ]
  },
  {
   "cell_type": "code",
   "execution_count": 17,
   "metadata": {},
   "outputs": [],
   "source": [
    "def secante(xia, xi, tol):\n",
    "    xinew=fun(xia, xi)\n",
    "    ecal=error(xinew,xi)\n",
    "    print(\"\\033[1;35m\",\"(xi-1): \",xia,\"\\t\\033[1;31m\",\"  (xi): \",xi,\"\\t\\033[1;32m\",\"   (Error): \",ecal)\n",
    "    \n",
    "    k=1;\n",
    "    \n",
    "    while(ecal>tol):\n",
    "        \n",
    "        xinuevo=fun(xia, xi)\n",
    "        \n",
    "        xia=xi\n",
    "        xi=xinuevo\n",
    "        ecal=error(xi,xia)\n",
    "        \n",
    "        if ecal>=tol:\n",
    "            print(\"\\033[1;35m\",\"(xi-1): \",xia,\"\\t\\033[1;31m\",\"  (xi): \",xi,\"\\t\\033[1;32m\",\"   (Error): \",ecal)\n",
    "            k=k+1;\n",
    "        \n",
    "    print(\"\")\n",
    "    print(\"\\t\\033[1;30m\",k,\" ITERACIONES para aproximar a: \",tol,\"; \",\"\\033[1;32m\",xia,\"\\033[1;30m\",\"la aproximacion\")"
   ]
  },
  {
   "cell_type": "code",
   "execution_count": 18,
   "metadata": {},
   "outputs": [
    {
     "name": "stdout",
     "output_type": "stream",
     "text": [
      "\u001b[1;35m (xi-1):  0 \t\u001b[1;31m   (xi):  1 \t\u001b[1;32m    (Error):  1.0533505840331283\n",
      "\u001b[1;35m (xi-1):  1 \t\u001b[1;31m   (xi):  0.48700889549792836 \t\u001b[1;32m    (Error):  1.0533505840331283\n",
      "\u001b[1;35m (xi-1):  0.48700889549792836 \t\u001b[1;31m   (xi):  0.346774300305845 \t\u001b[1;32m    (Error):  0.4043973128008635\n",
      "\u001b[1;35m (xi-1):  0.346774300305845 \t\u001b[1;31m   (xi):  0.3881064627241549 \t\u001b[1;32m    (Error):  0.10649697025964383\n",
      "\u001b[1;35m (xi-1):  0.3881064627241549 \t\u001b[1;31m   (xi):  0.3866815182904001 \t\u001b[1;32m    (Error):  0.003685059580956367\n",
      "\n",
      "\t\u001b[1;30m 5  ITERACIONES para aproximar a:  0.001 ;  \u001b[1;32m 0.3866815182904001 \u001b[1;30m la aproximacion\n"
     ]
    }
   ],
   "source": [
    "secante(0,1,0.001)"
   ]
  }
 ],
 "metadata": {
  "kernelspec": {
   "display_name": "Python 3",
   "language": "python",
   "name": "python3"
  },
  "language_info": {
   "codemirror_mode": {
    "name": "ipython",
    "version": 3
   },
   "file_extension": ".py",
   "mimetype": "text/x-python",
   "name": "python",
   "nbconvert_exporter": "python",
   "pygments_lexer": "ipython3",
   "version": "3.8.5"
  }
 },
 "nbformat": 4,
 "nbformat_minor": 4
}
